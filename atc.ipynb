{
 "cells": [
  {
   "cell_type": "code",
   "execution_count": 1,
   "metadata": {},
   "outputs": [],
   "source": [
    "%load_ext autoreload\n",
    "%autoreload 2"
   ]
  },
  {
   "cell_type": "code",
   "execution_count": 2,
   "metadata": {},
   "outputs": [],
   "source": [
    "import calibration as cal\n",
    "import ATC as atc\n",
    "import numpy as np\n",
    "from scipy.special import softmax\n",
    "import pandas as pd\n",
    "import os.path\n",
    "import os"
   ]
  },
  {
   "cell_type": "code",
   "execution_count": 3,
   "metadata": {},
   "outputs": [],
   "source": [
    "#read source probs and source labels\n",
    "source_probs_fp = \"./results/cifar-10-densenet_cifar-10_preds.csv\"\n",
    "source_labels_fp = \"./results/cifar-10_labels.csv\"\n",
    "\n",
    "source_probs_df = pd.read_csv(source_probs_fp, header=None)\n",
    "source_probs = softmax(source_probs_df.to_numpy(), axis = 1)\n",
    "\n",
    "source_labels_df = pd.read_csv(source_labels_fp, header=None)\n",
    "source_labels = source_labels_df.to_numpy().reshape(-1)"
   ]
  },
  {
   "cell_type": "code",
   "execution_count": 20,
   "metadata": {},
   "outputs": [
    {
     "name": "stdout",
     "output_type": "stream",
     "text": [
      "(10000, 10)\n",
      "(10000,)\n"
     ]
    }
   ],
   "source": [
    "#print(source_probs.shape)\n",
    "#print(source_labels.shape)"
   ]
  },
  {
   "cell_type": "code",
   "execution_count": 4,
   "metadata": {},
   "outputs": [
    {
     "name": "stdout",
     "output_type": "stream",
     "text": [
      "Calibration error is 0.026556584569866856\n"
     ]
    }
   ],
   "source": [
    "#train calibrator on source validation set\n",
    "calibration_error = cal.ece_loss(source_probs, source_labels)\n",
    "print(\"Calibration error is {}\".format(calibration_error))\n",
    "calibrator = cal.TempScaling(bias=False)\n",
    "calibrator.fit(source_probs, source_labels)"
   ]
  },
  {
   "cell_type": "code",
   "execution_count": 5,
   "metadata": {},
   "outputs": [],
   "source": [
    "#calibrate source probs\n",
    "calibrated_source_probs = calibrator.calibrate(source_probs)"
   ]
  },
  {
   "cell_type": "code",
   "execution_count": 19,
   "metadata": {},
   "outputs": [
    {
     "name": "stdout",
     "output_type": "stream",
     "text": [
      "(50000,)\n"
     ]
    }
   ],
   "source": [
    "#read test probs and test labels\n",
    "test_probs_fp = \"./results/cf10-densenet_cf10c-motion_preds.csv\"\n",
    "test_probs_df = pd.read_csv(test_probs_fp, header=None)\n",
    "test_probs = softmax(test_probs_df.to_numpy(), axis = 1)\n",
    "\n",
    "test_labels_fp = \"./results/cf10c-motion_labels.csv\"\n",
    "test_labels_df = pd.read_csv(test_labels_fp, header=None)\n",
    "test_labels = test_labels_df.to_numpy().reshape(-1)\n",
    "#print(test_labels.shape)"
   ]
  },
  {
   "cell_type": "code",
   "execution_count": 16,
   "metadata": {},
   "outputs": [],
   "source": [
    "# calibrate test probs\n",
    "calibrated_test_probs = calibrator.calibrate(test_probs)\n",
    "#print(np.sum(calibrated_test_probs != test_probs))"
   ]
  },
  {
   "cell_type": "code",
   "execution_count": 18,
   "metadata": {},
   "outputs": [],
   "source": [
    "# helper function for calculating accuracy \n",
    "def acc (model_probs, labels):\n",
    "    preds = np.argmax(model_probs, axis=-1)\n",
    "    accuracy = np.mean(preds == labels)*100.0\n",
    "    return accuracy "
   ]
  },
  {
   "cell_type": "code",
   "execution_count": 24,
   "metadata": {},
   "outputs": [],
   "source": [
    "class_num = 10\n",
    "results = np.zeros((class_num,6))\n",
    "\n",
    "for i in range(class_num):\n",
    "    group_label = i\n",
    "\n",
    "    #source group accuracy \n",
    "    source_group_probs = calibrated_source_probs[source_labels == i]\n",
    "    source_group_acc = acc(source_group_probs, group_label)\n",
    "    results[i][0] = source_group_acc\n",
    "\n",
    "    #test group accuracy \n",
    "    test_group_probs = calibrated_test_probs[test_labels == i]\n",
    "    test_group_acc = acc(test_group_probs, group_label)\n",
    "    results[i][1] = test_group_acc\n",
    "\n",
    "    #group atc estimation using unified threshold obtained from the entire source val set\n",
    "    group_atc, threshold_a = atc.ATC_accuracy(calibrated_source_probs, source_labels, test_group_probs)\n",
    "    results[i][2] = group_atc\n",
    "    results[i][3] = threshold_a\n",
    "\n",
    "    #group atc estimation using group-specific thresholds obtained from individual groups in the source val set\n",
    "    source_group_labels = np.ones(len(source_group_probs)) * group_label\n",
    "    group_atc_spec, threshold_g = atc.ATC_accuracy(source_group_probs, source_group_labels, test_group_probs)\n",
    "    results[i][4] = group_atc_spec\n",
    "    results[i][5] = threshold_g\n"
   ]
  },
  {
   "cell_type": "code",
   "execution_count": 25,
   "metadata": {},
   "outputs": [
    {
     "name": "stdout",
     "output_type": "stream",
     "text": [
      "[[92.1        73.72       76.28        0.7119903  78.06        0.68728709]\n",
      " [95.5        72.84       73.4         0.7119903  66.4         0.79227519]\n",
      " [89.1        73.98       78.7         0.7119903  79.44        0.70189333]\n",
      " [82.6        85.28       83.24        0.7119903  81.2         0.7358309 ]\n",
      " [94.2        65.86       71.32        0.7119903  73.82        0.68493152]\n",
      " [88.8        63.84       76.9         0.7119903  74.26        0.74205005]\n",
      " [95.         39.62       64.42        0.7119903  70.86        0.65012485]\n",
      " [94.4        58.62       67.22        0.7119903  68.72        0.69310904]\n",
      " [96.4        75.42       79.68        0.7119903  78.5         0.72884518]\n",
      " [96.5        49.76       65.14        0.7119903  65.94        0.70499134]]\n"
     ]
    }
   ],
   "source": [
    "print(results)"
   ]
  },
  {
   "cell_type": "code",
   "execution_count": 26,
   "metadata": {},
   "outputs": [],
   "source": [
    "r_df = pd.DataFrame(results)\n",
    "r_df.to_csv(\"./results/cf10c-motion.csv\", index=True, header=['ID_acc', 'OOD_acc', 'atc','atc_ts', 'atc_g', 'atc_g_ts'])"
   ]
  },
  {
   "cell_type": "code",
   "execution_count": 28,
   "metadata": {},
   "outputs": [
    {
     "data": {
      "image/png": "[encoded data removed]",
      "text/plain": [
       "<Figure size 432x288 with 1 Axes>"
      ]
     },
     "metadata": {
      "needs_background": "light"
     },
     "output_type": "display_data"
    }
   ],
   "source": [
    "# import matplotlib.pyplot as plt\n",
    "\n",
    "# x = np.arange(class_num)\n",
    "\n",
    "# id_acc = results[:,0]\n",
    "# ood_acc = results[:,1]\n",
    "# atc = results[:,2]\n",
    "# atc_g = results[:,4]\n",
    "\n",
    "# plt.scatter(x, id_acc, label=\"id_acc\")\n",
    "# plt.scatter(x, ood_acc, label=\"ood_acc\")\n",
    "# plt.scatter(x, atc, label=\"atc\")\n",
    "# plt.scatter(x, atc_g, label=\"atc_g\")\n",
    "\n",
    "# plt.legend(loc=\"lower center\")\n",
    "# plt.xlabel(\"Classes\")\n",
    "# plt.ylabel(\"Accuracy\")\n",
    "\n",
    "# plt.show()"
   ]
  },
  {
   "cell_type": "code",
   "execution_count": 30,
   "metadata": {},
   "outputs": [
    {
     "data": {
      "image/png": "[encoded data removed]",
      "text/plain": [
       "<Figure size 432x288 with 1 Axes>"
      ]
     },
     "metadata": {
      "needs_background": "light"
     },
     "output_type": "display_data"
    }
   ],
   "source": [
    "ood_acc = results[:,1]\n",
    "x = np.argsort(ood_acc)\n",
    "\n",
    "id_acc = results[x,0]\n",
    "ood_acc = results[x,1]\n",
    "atc = results[x,2]\n",
    "atc_g = results[x,4]\n",
    "\n",
    "x = np.arange(class_num)\n",
    "\n",
    "plt.scatter(x, id_acc, label=\"id_acc\")\n",
    "plt.scatter(x, ood_acc, label=\"ood_acc\")\n",
    "plt.scatter(x, atc, label=\"atc\")\n",
    "plt.scatter(x, atc_g, label=\"atc_g\")\n",
    "\n",
    "plt.legend(loc=\"lower center\")\n",
    "plt.xlabel(\"Classes\")\n",
    "plt.ylabel(\"Accuracy\")\n",
    "\n",
    "plt.show()\n"
   ]
  },
  {
   "cell_type": "code",
   "execution_count": 22,
   "metadata": {},
   "outputs": [
    {
     "name": "stdout",
     "output_type": "stream",
     "text": [
      "Accuracy is 65.89399999999999\n"
     ]
    }
   ],
   "source": [
    "accuracy = acc(test_probs, test_labels)\n",
    "print(\"Accuracy is {}\".format(accuracy))"
   ]
  },
  {
   "cell_type": "code",
   "execution_count": 23,
   "metadata": {},
   "outputs": [
    {
     "name": "stdout",
     "output_type": "stream",
     "text": [
      "Accuracy is 73.63, threshold is 0.7119902968406677\n"
     ]
    }
   ],
   "source": [
    "atc_acc,threshold = atc.ATC_accuracy(calibrated_source_probs, source_labels, calibrated_test_probs)\n",
    "print(\"Accuracy is {}, threshold is {}\".format(atc_acc,threshold))"
   ]
  }
 ],
 "metadata": {
  "interpreter": {
   "hash": "6cc7fd269804760f88ab5d3a43f4280a6809dacabb066c1f79d964f5ec5e20de"
  },
  "kernelspec": {
   "display_name": "Python 3.8.5 ('cifar-gpu')",
   "language": "python",
   "name": "python3"
  },
  "language_info": {
   "codemirror_mode": {
    "name": "ipython",
    "version": 3
   },
   "file_extension": ".py",
   "mimetype": "text/x-python",
   "name": "python",
   "nbconvert_exporter": "python",
   "pygments_lexer": "ipython3",
   "version": "3.8.5"
  },
  "orig_nbformat": 4
 },
 "nbformat": 4,
 "nbformat_minor": 2
}
