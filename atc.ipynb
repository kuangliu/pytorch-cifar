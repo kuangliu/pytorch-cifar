{
 "cells": [
  {
   "cell_type": "code",
   "execution_count": 14,
   "metadata": {},
   "outputs": [
    {
     "name": "stdout",
     "output_type": "stream",
     "text": [
      "The autoreload extension is already loaded. To reload it, use:\n",
      "  %reload_ext autoreload\n"
     ]
    }
   ],
   "source": [
    "%load_ext autoreload\n",
    "%autoreload 2"
   ]
  },
  {
   "cell_type": "code",
   "execution_count": 16,
   "metadata": {},
   "outputs": [],
   "source": [
    "import calibration as cal\n",
    "import ATC as atc\n",
    "import numpy as np\n",
    "from scipy.special import softmax\n",
    "import pandas as pd\n",
    "import os.path\n",
    "import os"
   ]
  },
  {
   "cell_type": "code",
   "execution_count": 19,
   "metadata": {},
   "outputs": [],
   "source": [
    "source_probs_fp = \"./results/cifar-10-densenet_cifar-10_preds.csv\"\n",
    "source_labels_fp = \"./results/cifar-10_labels.csv\"\n",
    "\n",
    "source_probs_df = pd.read_csv(source_probs_fp, header=None)\n",
    "source_probs = softmax(source_probs_df.to_numpy(), axis = 1)\n",
    "\n",
    "source_labels_df = pd.read_csv(source_labels_fp, header=None)\n",
    "source_labels = source_labels_df.to_numpy().reshape(-1)"
   ]
  },
  {
   "cell_type": "code",
   "execution_count": 20,
   "metadata": {},
   "outputs": [
    {
     "name": "stdout",
     "output_type": "stream",
     "text": [
      "(10000, 10)\n",
      "(10000,)\n"
     ]
    }
   ],
   "source": [
    "#print(source_probs.shape)\n",
    "#print(source_labels.shape)"
   ]
  },
  {
   "cell_type": "code",
   "execution_count": 21,
   "metadata": {},
   "outputs": [
    {
     "name": "stdout",
     "output_type": "stream",
     "text": [
      "Calibration error is 0.026556584569866856\n"
     ]
    }
   ],
   "source": [
    "#train calibrator on source validation set\n",
    "calibration_error = cal.ece_loss(source_probs, source_labels)\n",
    "print(\"Calibration error is {}\".format(calibration_error))\n",
    "calibrator = cal.TempScaling(bias=False)\n",
    "calibrator.fit(source_probs, source_labels)"
   ]
  },
  {
   "cell_type": "code",
   "execution_count": null,
   "metadata": {},
   "outputs": [],
   "source": [
    "calibrated_source_probs = calibrator.calibrate(source_probs)"
   ]
  },
  {
   "cell_type": "code",
   "execution_count": 28,
   "metadata": {},
   "outputs": [
    {
     "name": "stdout",
     "output_type": "stream",
     "text": [
      "(50000, 10)\n"
     ]
    }
   ],
   "source": [
    "test_probs_fp = \"./results/cf10-densenet_cf10c-motion_preds.csv\"\n",
    "test_probs_df = pd.read_csv(test_probs_fp, header=None)\n",
    "test_probs = softmax(test_probs_df.to_numpy(), axis = 1)\n",
    "print(test_probs.shape)"
   ]
  },
  {
   "cell_type": "code",
   "execution_count": 29,
   "metadata": {},
   "outputs": [],
   "source": [
    "calibrated_test_probs = calibrator.calibrate(test_probs)\n",
    "#print(np.sum(calibrated_test_probs != test_probs))"
   ]
  },
  {
   "cell_type": "code",
   "execution_count": 30,
   "metadata": {},
   "outputs": [
    {
     "name": "stdout",
     "output_type": "stream",
     "text": [
      "Threshold is 0.7119902968406677\n",
      "73.63\n"
     ]
    }
   ],
   "source": [
    "atc_acc = atc.ATC_accuracy(calibrated_source_probs, source_labels, calibrated_test_probs)\n",
    "print(atc_acc)"
   ]
  },
  {
   "cell_type": "code",
   "execution_count": null,
   "metadata": {},
   "outputs": [],
   "source": []
  }
 ],
 "metadata": {
  "interpreter": {
   "hash": "6cc7fd269804760f88ab5d3a43f4280a6809dacabb066c1f79d964f5ec5e20de"
  },
  "kernelspec": {
   "display_name": "Python 3.8.5 ('cifar-gpu')",
   "language": "python",
   "name": "python3"
  },
  "language_info": {
   "codemirror_mode": {
    "name": "ipython",
    "version": 3
   },
   "file_extension": ".py",
   "mimetype": "text/x-python",
   "name": "python",
   "nbconvert_exporter": "python",
   "pygments_lexer": "ipython3",
   "version": "3.8.5"
  },
  "orig_nbformat": 4
 },
 "nbformat": 4,
 "nbformat_minor": 2
}
